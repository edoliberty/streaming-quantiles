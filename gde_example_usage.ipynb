{
 "cells": [
  {
   "cell_type": "markdown",
   "id": "beb8ca3a-0ae2-4d96-adf3-be8b42751eed",
   "metadata": {},
   "source": [
    "## Gaussian desntisty estimatation"
   ]
  },
  {
   "cell_type": "code",
   "execution_count": 1,
   "id": "c29f0bb5-222a-4e04-88be-2e49116473b8",
   "metadata": {},
   "outputs": [],
   "source": [
    "# First let's generate some non trivial data.\n",
    "# Namely, n_vectors vectors close to d_inner dimensions in d_ambient dimensions. \n",
    "import numpy as np\n",
    "\n",
    "n_vectors = 10000\n",
    "d_ambient = 14\n",
    "d_inner = 4\n",
    "radius = np.sqrt(d_ambient)\n",
    "vectors = np.random.randn(n_vectors, d_inner)@np.random.randn(d_inner, d_ambient) \n",
    "vectors += 0.1*np.random.randn(n_vectors, d_ambient)\n",
    "vectors /= radius"
   ]
  },
  {
   "cell_type": "code",
   "execution_count": 2,
   "id": "53a3f16b-5a9c-407d-b1f5-6844276e4f9d",
   "metadata": {},
   "outputs": [
    {
     "name": "stdout",
     "output_type": "stream",
     "text": [
      "The sketch coreset contains 95 elements\n"
     ]
    }
   ],
   "source": [
    "# Now we can create a coreset like this\n",
    "from gde import GDE\n",
    "d = d_ambient\n",
    "k = 32\n",
    "\n",
    "gde = GDE(k, d)\n",
    "for vector in vectors:\n",
    "    gde.update(vector) \n",
    "    \n",
    "# let's see how large the coresent is\n",
    "print(f\"The sketch coreset contains {gde.size()} elements\")"
   ]
  },
  {
   "cell_type": "code",
   "execution_count": 3,
   "id": "054dbd95-ce9b-4ce2-ba44-1e0031cf29c3",
   "metadata": {},
   "outputs": [],
   "source": [
    "# To see how good the sketch is we need to define the kernel function\n",
    "def kernel(vector_1, vector_2):\n",
    "    return np.exp(-np.linalg.norm(vector_1 - vector_2)**2)\n",
    "\n",
    "## And, we'll need a function that computes the exact density to compare to\n",
    "def density(vectors, query):\n",
    "    return np.mean([kernel(vector, query) for vector in vectors])\n",
    "\n",
    "# Finally, we need to compare ourselves to a simple sketching algorithm\n",
    "# which will be uniform sampling of the same size as the coreset\n",
    "sampled_vectors = vectors[np.random.choice(n_vectors, gde.size())]"
   ]
  },
  {
   "cell_type": "code",
   "execution_count": 4,
   "id": "301a1af8-e992-46b8-8ad0-a9982530463d",
   "metadata": {},
   "outputs": [
    {
     "name": "stdout",
     "output_type": "stream",
     "text": [
      "Actual density = 0.11256883823890199\n",
      "Coreset approx = 0.08209484634504294\n",
      "Sampled approx = 0.09587554727332566\n"
     ]
    }
   ],
   "source": [
    "# The density in the origin\n",
    "query  = [0.0]*d\n",
    "print(f\"Actual density = {density(vectors, query)}\")\n",
    "print(f\"Coreset approx = {gde.query(query)}\")\n",
    "print(f\"Sampled approx = {density(sampled_vectors, query)}\")"
   ]
  },
  {
   "cell_type": "code",
   "execution_count": 5,
   "id": "09772193-89dc-40fd-8525-23e10a047663",
   "metadata": {},
   "outputs": [
    {
     "name": "stdout",
     "output_type": "stream",
     "text": [
      "Actual density = 0.036754530288669346\n",
      "Coreset approx = 0.023654805900234305\n",
      "Sampled approx = 0.04100985508115075\n"
     ]
    }
   ],
   "source": [
    "# something from the data\n",
    "query  = vectors[0]\n",
    "print(f\"Actual density = {density(vectors, query)}\")\n",
    "print(f\"Coreset approx = {gde.query(query)}\")\n",
    "print(f\"Sampled approx = {density(sampled_vectors, query)}\")"
   ]
  },
  {
   "cell_type": "code",
   "execution_count": 6,
   "id": "16eafb03-8f97-4467-8910-1a1025704eab",
   "metadata": {},
   "outputs": [
    {
     "name": "stdout",
     "output_type": "stream",
     "text": [
      "Actual density = 0.04508443316071552\n",
      "Coreset approx = 0.032877746090775505\n",
      "Sampled approx = 0.03920073467354825\n"
     ]
    }
   ],
   "source": [
    "# random query of the right magnitude\n",
    "query  = np.random.randn(d)/np.sqrt(d)\n",
    "print(f\"Actual density = {density(vectors, query)}\")\n",
    "print(f\"Coreset approx = {gde.query(query)}\")\n",
    "print(f\"Sampled approx = {density(sampled_vectors, query)}\")"
   ]
  },
  {
   "cell_type": "code",
   "execution_count": 7,
   "id": "5bccac03-8f2d-4076-b860-86c5a4a31049",
   "metadata": {},
   "outputs": [
    {
     "name": "stdout",
     "output_type": "stream",
     "text": [
      "Actual density = 1.9803101046615824e-05\n",
      "Coreset approx = 1.5915897849219183e-05\n",
      "Sampled approx = 1.9321368352452334e-05\n"
     ]
    }
   ],
   "source": [
    "# random query of the right magnitude\n",
    "query  = np.random.randn(d)\n",
    "print(f\"Actual density = {density(vectors, query)}\")\n",
    "print(f\"Coreset approx = {gde.query(query)}\")\n",
    "print(f\"Sampled approx = {density(sampled_vectors, query)}\")"
   ]
  },
  {
   "cell_type": "code",
   "execution_count": null,
   "id": "9314a11a-853f-40c2-a582-853e2fd27576",
   "metadata": {},
   "outputs": [],
   "source": []
  }
 ],
 "metadata": {
  "kernelspec": {
   "display_name": "Python 3 (ipykernel)",
   "language": "python",
   "name": "python3"
  },
  "language_info": {
   "codemirror_mode": {
    "name": "ipython",
    "version": 3
   },
   "file_extension": ".py",
   "mimetype": "text/x-python",
   "name": "python",
   "nbconvert_exporter": "python",
   "pygments_lexer": "ipython3",
   "version": "3.8.12"
  }
 },
 "nbformat": 4,
 "nbformat_minor": 5
}
