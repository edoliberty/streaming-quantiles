{
 "cells": [
  {
   "cell_type": "markdown",
   "id": "beb8ca3a-0ae2-4d96-adf3-be8b42751eed",
   "metadata": {},
   "source": [
    "## Gaussian density estimation"
   ]
  },
  {
   "cell_type": "code",
   "execution_count": 1,
   "id": "e99b3890-a115-41fa-be07-2f70a270c290",
   "metadata": {},
   "outputs": [],
   "source": [
    "# First let's generate some non-trivial data.\n",
    "# Namely, n_vectors vectors close to k_clusters centers in d_ambient dimensions. \n",
    "import numpy as np\n",
    "\n",
    "n_vectors = 10000\n",
    "d_ambient = 32\n",
    "k_clusters = 20\n",
    "noise_level = 0.1\n",
    "radius = 0.5*np.sqrt(d_ambient)\n",
    "vectors = np.random.randn(k_clusters, d_ambient)[np.random.randint(0, k_clusters, n_vectors)]\n",
    "vectors += noise_level*np.random.randn(n_vectors, d_ambient)\n",
    "vectors /= radius"
   ]
  },
  {
   "cell_type": "code",
   "execution_count": 2,
   "id": "53a3f16b-5a9c-407d-b1f5-6844276e4f9d",
   "metadata": {},
   "outputs": [
    {
     "name": "stdout",
     "output_type": "stream",
     "text": [
      "The sketch coreset contains 476 elements\n"
     ]
    }
   ],
   "source": [
    "# Now we can create a coreset like this\n",
    "from gde import GDE\n",
    "d = d_ambient\n",
    "k = 64\n",
    "\n",
    "gde = GDE(k, d)\n",
    "for vector in vectors:\n",
    "    gde.update(vector) \n",
    "    \n",
    "# let's see how large the coresent is\n",
    "print(f\"The sketch coreset contains {gde.size} elements\")"
   ]
  },
  {
   "cell_type": "code",
   "execution_count": 3,
   "id": "054dbd95-ce9b-4ce2-ba44-1e0031cf29c3",
   "metadata": {},
   "outputs": [],
   "source": [
    "# To see how good the sketch is we need to define the kernel function\n",
    "def kernel(vector_1, vector_2):\n",
    "    return np.exp(-np.linalg.norm(vector_1 - vector_2)**2)\n",
    "\n",
    "## And, we'll need a function that computes the exact density to compare to\n",
    "def density(vectors, query):\n",
    "    return np.mean([kernel(vector, query) for vector in vectors])\n",
    "\n",
    "# Finally, we need to compare ourselves to a simple sketching algorithm\n",
    "# which will be uniform sampling of the same size as the coreset\n",
    "sampled_vectors = vectors[np.random.choice(n_vectors, gde.size)]"
   ]
  },
  {
   "cell_type": "code",
   "execution_count": 4,
   "id": "9314a11a-853f-40c2-a582-853e2fd27576",
   "metadata": {},
   "outputs": [],
   "source": [
    "m = 50\n",
    "densities = np.zeros( (m,3) )\n",
    "cs = np.linspace(0.0, 5, m)\n",
    "for i, c in enumerate(cs):\n",
    "    query = c*vectors[0]\n",
    "    densities[i,0] = density(vectors, query)\n",
    "    densities[i,1] = gde.query(query)\n",
    "    densities[i,2] = density(sampled_vectors, query)"
   ]
  },
  {
   "cell_type": "code",
   "execution_count": 5,
   "id": "3e5920bc-c28b-4a08-8d10-1638943e5b4e",
   "metadata": {},
   "outputs": [
    {
     "data": {
      "image/png": "[encoded data removed]",
      "text/plain": [
       "<Figure size 432x288 with 1 Axes>"
      ]
     },
     "metadata": {
      "needs_background": "light"
     },
     "output_type": "display_data"
    }
   ],
   "source": [
    "import matplotlib.pyplot as plt\n",
    "plt.plot(cs, densities, label=['real','sketch','sample'])\n",
    "plt.legend()\n",
    "plt.show()"
   ]
  }
 ],
 "metadata": {
  "kernelspec": {
   "display_name": "Python 3 (ipykernel)",
   "language": "python",
   "name": "python3"
  },
  "language_info": {
   "codemirror_mode": {
    "name": "ipython",
    "version": 3
   },
   "file_extension": ".py",
   "mimetype": "text/x-python",
   "name": "python",
   "nbconvert_exporter": "python",
   "pygments_lexer": "ipython3",
   "version": "3.8.12"
  }
 },
 "nbformat": 4,
 "nbformat_minor": 5
}
